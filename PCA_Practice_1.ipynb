{
  "nbformat": 4,
  "nbformat_minor": 0,
  "metadata": {
    "colab": {
      "name": "PCA Practice-1 ",
      "provenance": [],
      "collapsed_sections": [],
      "authorship_tag": "ABX9TyOEyxWGMWbe+6fUxlEst5oX",
      "include_colab_link": true
    },
    "kernelspec": {
      "name": "python3",
      "display_name": "Python 3"
    },
    "language_info": {
      "name": "python"
    },
    "accelerator": "GPU"
  },
  "cells": [
    {
      "cell_type": "markdown",
      "metadata": {
        "id": "view-in-github",
        "colab_type": "text"
      },
      "source": [
        "<a href=\"https://colab.research.google.com/github/sushil1902/PCA/blob/main/PCA_Practice_1.ipynb\" target=\"_parent\"><img src=\"https://colab.research.google.com/assets/colab-badge.svg\" alt=\"Open In Colab\"/></a>"
      ]
    },
    {
      "cell_type": "code",
      "metadata": {
        "id": "n_zJV6lxpT-B"
      },
      "source": [
        "import numpy as np\n",
        "import pandas as pd\n",
        "import matplotlib.pyplot as plt\n",
        "import seaborn as sns\n",
        "\n",
        "import warnings\n",
        "warnings.filterwarnings('ignore')"
      ],
      "execution_count": 157,
      "outputs": []
    },
    {
      "cell_type": "code",
      "metadata": {
        "id": "bLt66ypjsQwS",
        "colab": {
          "base_uri": "https://localhost:8080/"
        },
        "outputId": "7f0fb8e9-56b7-4875-ec2b-9f0b139934f8"
      },
      "source": [
        "df = pd.read_csv(\"https://raw.githubusercontent.com/sushil1902/PCA/main/PCA%20-%20Crowdedness%20at%20the%20Campus%20Gym\")\n",
        "df.shape"
      ],
      "execution_count": 158,
      "outputs": [
        {
          "output_type": "execute_result",
          "data": {
            "text/plain": [
              "(62184, 11)"
            ]
          },
          "metadata": {},
          "execution_count": 158
        }
      ]
    },
    {
      "cell_type": "code",
      "metadata": {
        "id": "4iIDDW7UsU6a",
        "colab": {
          "base_uri": "https://localhost:8080/",
          "height": 204
        },
        "outputId": "a8c5f180-8777-4d0a-facf-569c5e804d6f"
      },
      "source": [
        "df.head()"
      ],
      "execution_count": 159,
      "outputs": [
        {
          "output_type": "execute_result",
          "data": {
            "text/html": [
              "<div>\n",
              "<style scoped>\n",
              "    .dataframe tbody tr th:only-of-type {\n",
              "        vertical-align: middle;\n",
              "    }\n",
              "\n",
              "    .dataframe tbody tr th {\n",
              "        vertical-align: top;\n",
              "    }\n",
              "\n",
              "    .dataframe thead th {\n",
              "        text-align: right;\n",
              "    }\n",
              "</style>\n",
              "<table border=\"1\" class=\"dataframe\">\n",
              "  <thead>\n",
              "    <tr style=\"text-align: right;\">\n",
              "      <th></th>\n",
              "      <th>number_people</th>\n",
              "      <th>date</th>\n",
              "      <th>timestamp</th>\n",
              "      <th>day_of_week</th>\n",
              "      <th>is_weekend</th>\n",
              "      <th>is_holiday</th>\n",
              "      <th>temperature</th>\n",
              "      <th>is_start_of_semester</th>\n",
              "      <th>is_during_semester</th>\n",
              "      <th>month</th>\n",
              "      <th>hour</th>\n",
              "    </tr>\n",
              "  </thead>\n",
              "  <tbody>\n",
              "    <tr>\n",
              "      <th>0</th>\n",
              "      <td>37</td>\n",
              "      <td>2015-08-14 17:00:11-07:00</td>\n",
              "      <td>61211</td>\n",
              "      <td>4</td>\n",
              "      <td>0</td>\n",
              "      <td>0</td>\n",
              "      <td>71.76</td>\n",
              "      <td>0</td>\n",
              "      <td>0</td>\n",
              "      <td>8</td>\n",
              "      <td>17</td>\n",
              "    </tr>\n",
              "    <tr>\n",
              "      <th>1</th>\n",
              "      <td>45</td>\n",
              "      <td>2015-08-14 17:20:14-07:00</td>\n",
              "      <td>62414</td>\n",
              "      <td>4</td>\n",
              "      <td>0</td>\n",
              "      <td>0</td>\n",
              "      <td>71.76</td>\n",
              "      <td>0</td>\n",
              "      <td>0</td>\n",
              "      <td>8</td>\n",
              "      <td>17</td>\n",
              "    </tr>\n",
              "    <tr>\n",
              "      <th>2</th>\n",
              "      <td>40</td>\n",
              "      <td>2015-08-14 17:30:15-07:00</td>\n",
              "      <td>63015</td>\n",
              "      <td>4</td>\n",
              "      <td>0</td>\n",
              "      <td>0</td>\n",
              "      <td>71.76</td>\n",
              "      <td>0</td>\n",
              "      <td>0</td>\n",
              "      <td>8</td>\n",
              "      <td>17</td>\n",
              "    </tr>\n",
              "    <tr>\n",
              "      <th>3</th>\n",
              "      <td>44</td>\n",
              "      <td>2015-08-14 17:40:16-07:00</td>\n",
              "      <td>63616</td>\n",
              "      <td>4</td>\n",
              "      <td>0</td>\n",
              "      <td>0</td>\n",
              "      <td>71.76</td>\n",
              "      <td>0</td>\n",
              "      <td>0</td>\n",
              "      <td>8</td>\n",
              "      <td>17</td>\n",
              "    </tr>\n",
              "    <tr>\n",
              "      <th>4</th>\n",
              "      <td>45</td>\n",
              "      <td>2015-08-14 17:50:17-07:00</td>\n",
              "      <td>64217</td>\n",
              "      <td>4</td>\n",
              "      <td>0</td>\n",
              "      <td>0</td>\n",
              "      <td>71.76</td>\n",
              "      <td>0</td>\n",
              "      <td>0</td>\n",
              "      <td>8</td>\n",
              "      <td>17</td>\n",
              "    </tr>\n",
              "  </tbody>\n",
              "</table>\n",
              "</div>"
            ],
            "text/plain": [
              "   number_people                       date  ...  month  hour\n",
              "0             37  2015-08-14 17:00:11-07:00  ...      8    17\n",
              "1             45  2015-08-14 17:20:14-07:00  ...      8    17\n",
              "2             40  2015-08-14 17:30:15-07:00  ...      8    17\n",
              "3             44  2015-08-14 17:40:16-07:00  ...      8    17\n",
              "4             45  2015-08-14 17:50:17-07:00  ...      8    17\n",
              "\n",
              "[5 rows x 11 columns]"
            ]
          },
          "metadata": {},
          "execution_count": 159
        }
      ]
    },
    {
      "cell_type": "code",
      "metadata": {
        "id": "uhViB_N7ubry",
        "colab": {
          "base_uri": "https://localhost:8080/",
          "height": 297
        },
        "outputId": "1e20e893-197e-4a69-b721-9ae7dadbd8d5"
      },
      "source": [
        "df.describe()"
      ],
      "execution_count": 160,
      "outputs": [
        {
          "output_type": "execute_result",
          "data": {
            "text/html": [
              "<div>\n",
              "<style scoped>\n",
              "    .dataframe tbody tr th:only-of-type {\n",
              "        vertical-align: middle;\n",
              "    }\n",
              "\n",
              "    .dataframe tbody tr th {\n",
              "        vertical-align: top;\n",
              "    }\n",
              "\n",
              "    .dataframe thead th {\n",
              "        text-align: right;\n",
              "    }\n",
              "</style>\n",
              "<table border=\"1\" class=\"dataframe\">\n",
              "  <thead>\n",
              "    <tr style=\"text-align: right;\">\n",
              "      <th></th>\n",
              "      <th>number_people</th>\n",
              "      <th>timestamp</th>\n",
              "      <th>day_of_week</th>\n",
              "      <th>is_weekend</th>\n",
              "      <th>is_holiday</th>\n",
              "      <th>temperature</th>\n",
              "      <th>is_start_of_semester</th>\n",
              "      <th>is_during_semester</th>\n",
              "      <th>month</th>\n",
              "      <th>hour</th>\n",
              "    </tr>\n",
              "  </thead>\n",
              "  <tbody>\n",
              "    <tr>\n",
              "      <th>count</th>\n",
              "      <td>62184.000000</td>\n",
              "      <td>62184.000000</td>\n",
              "      <td>62184.000000</td>\n",
              "      <td>62184.000000</td>\n",
              "      <td>62184.000000</td>\n",
              "      <td>62184.000000</td>\n",
              "      <td>62184.000000</td>\n",
              "      <td>62184.000000</td>\n",
              "      <td>62184.000000</td>\n",
              "      <td>62184.000000</td>\n",
              "    </tr>\n",
              "    <tr>\n",
              "      <th>mean</th>\n",
              "      <td>29.072543</td>\n",
              "      <td>45799.437958</td>\n",
              "      <td>2.982504</td>\n",
              "      <td>0.282870</td>\n",
              "      <td>0.002573</td>\n",
              "      <td>58.557108</td>\n",
              "      <td>0.078831</td>\n",
              "      <td>0.660218</td>\n",
              "      <td>7.439824</td>\n",
              "      <td>12.236460</td>\n",
              "    </tr>\n",
              "    <tr>\n",
              "      <th>std</th>\n",
              "      <td>22.689026</td>\n",
              "      <td>24211.275891</td>\n",
              "      <td>1.996825</td>\n",
              "      <td>0.450398</td>\n",
              "      <td>0.050660</td>\n",
              "      <td>6.316396</td>\n",
              "      <td>0.269476</td>\n",
              "      <td>0.473639</td>\n",
              "      <td>3.445069</td>\n",
              "      <td>6.717631</td>\n",
              "    </tr>\n",
              "    <tr>\n",
              "      <th>min</th>\n",
              "      <td>0.000000</td>\n",
              "      <td>0.000000</td>\n",
              "      <td>0.000000</td>\n",
              "      <td>0.000000</td>\n",
              "      <td>0.000000</td>\n",
              "      <td>38.140000</td>\n",
              "      <td>0.000000</td>\n",
              "      <td>0.000000</td>\n",
              "      <td>1.000000</td>\n",
              "      <td>0.000000</td>\n",
              "    </tr>\n",
              "    <tr>\n",
              "      <th>25%</th>\n",
              "      <td>9.000000</td>\n",
              "      <td>26624.000000</td>\n",
              "      <td>1.000000</td>\n",
              "      <td>0.000000</td>\n",
              "      <td>0.000000</td>\n",
              "      <td>55.000000</td>\n",
              "      <td>0.000000</td>\n",
              "      <td>0.000000</td>\n",
              "      <td>5.000000</td>\n",
              "      <td>7.000000</td>\n",
              "    </tr>\n",
              "    <tr>\n",
              "      <th>50%</th>\n",
              "      <td>28.000000</td>\n",
              "      <td>46522.500000</td>\n",
              "      <td>3.000000</td>\n",
              "      <td>0.000000</td>\n",
              "      <td>0.000000</td>\n",
              "      <td>58.340000</td>\n",
              "      <td>0.000000</td>\n",
              "      <td>1.000000</td>\n",
              "      <td>8.000000</td>\n",
              "      <td>12.000000</td>\n",
              "    </tr>\n",
              "    <tr>\n",
              "      <th>75%</th>\n",
              "      <td>43.000000</td>\n",
              "      <td>66612.000000</td>\n",
              "      <td>5.000000</td>\n",
              "      <td>1.000000</td>\n",
              "      <td>0.000000</td>\n",
              "      <td>62.280000</td>\n",
              "      <td>0.000000</td>\n",
              "      <td>1.000000</td>\n",
              "      <td>10.000000</td>\n",
              "      <td>18.000000</td>\n",
              "    </tr>\n",
              "    <tr>\n",
              "      <th>max</th>\n",
              "      <td>145.000000</td>\n",
              "      <td>86399.000000</td>\n",
              "      <td>6.000000</td>\n",
              "      <td>1.000000</td>\n",
              "      <td>1.000000</td>\n",
              "      <td>87.170000</td>\n",
              "      <td>1.000000</td>\n",
              "      <td>1.000000</td>\n",
              "      <td>12.000000</td>\n",
              "      <td>23.000000</td>\n",
              "    </tr>\n",
              "  </tbody>\n",
              "</table>\n",
              "</div>"
            ],
            "text/plain": [
              "       number_people     timestamp  ...         month          hour\n",
              "count   62184.000000  62184.000000  ...  62184.000000  62184.000000\n",
              "mean       29.072543  45799.437958  ...      7.439824     12.236460\n",
              "std        22.689026  24211.275891  ...      3.445069      6.717631\n",
              "min         0.000000      0.000000  ...      1.000000      0.000000\n",
              "25%         9.000000  26624.000000  ...      5.000000      7.000000\n",
              "50%        28.000000  46522.500000  ...      8.000000     12.000000\n",
              "75%        43.000000  66612.000000  ...     10.000000     18.000000\n",
              "max       145.000000  86399.000000  ...     12.000000     23.000000\n",
              "\n",
              "[8 rows x 10 columns]"
            ]
          },
          "metadata": {},
          "execution_count": 160
        }
      ]
    },
    {
      "cell_type": "code",
      "metadata": {
        "id": "1usl_0DAug1Q",
        "colab": {
          "base_uri": "https://localhost:8080/",
          "height": 359
        },
        "outputId": "8f5a9fa7-4e41-4d99-87aa-d1379a19ec14"
      },
      "source": [
        "df.corr()"
      ],
      "execution_count": 161,
      "outputs": [
        {
          "output_type": "execute_result",
          "data": {
            "text/html": [
              "<div>\n",
              "<style scoped>\n",
              "    .dataframe tbody tr th:only-of-type {\n",
              "        vertical-align: middle;\n",
              "    }\n",
              "\n",
              "    .dataframe tbody tr th {\n",
              "        vertical-align: top;\n",
              "    }\n",
              "\n",
              "    .dataframe thead th {\n",
              "        text-align: right;\n",
              "    }\n",
              "</style>\n",
              "<table border=\"1\" class=\"dataframe\">\n",
              "  <thead>\n",
              "    <tr style=\"text-align: right;\">\n",
              "      <th></th>\n",
              "      <th>number_people</th>\n",
              "      <th>timestamp</th>\n",
              "      <th>day_of_week</th>\n",
              "      <th>is_weekend</th>\n",
              "      <th>is_holiday</th>\n",
              "      <th>temperature</th>\n",
              "      <th>is_start_of_semester</th>\n",
              "      <th>is_during_semester</th>\n",
              "      <th>month</th>\n",
              "      <th>hour</th>\n",
              "    </tr>\n",
              "  </thead>\n",
              "  <tbody>\n",
              "    <tr>\n",
              "      <th>number_people</th>\n",
              "      <td>1.000000</td>\n",
              "      <td>0.550218</td>\n",
              "      <td>-0.162062</td>\n",
              "      <td>-0.173958</td>\n",
              "      <td>-0.048249</td>\n",
              "      <td>0.373327</td>\n",
              "      <td>0.182683</td>\n",
              "      <td>0.335350</td>\n",
              "      <td>-0.097854</td>\n",
              "      <td>0.552049</td>\n",
              "    </tr>\n",
              "    <tr>\n",
              "      <th>timestamp</th>\n",
              "      <td>0.550218</td>\n",
              "      <td>1.000000</td>\n",
              "      <td>-0.001793</td>\n",
              "      <td>-0.000509</td>\n",
              "      <td>0.002851</td>\n",
              "      <td>0.184849</td>\n",
              "      <td>0.009551</td>\n",
              "      <td>0.044676</td>\n",
              "      <td>-0.023221</td>\n",
              "      <td>0.999077</td>\n",
              "    </tr>\n",
              "    <tr>\n",
              "      <th>day_of_week</th>\n",
              "      <td>-0.162062</td>\n",
              "      <td>-0.001793</td>\n",
              "      <td>1.000000</td>\n",
              "      <td>0.791338</td>\n",
              "      <td>-0.075862</td>\n",
              "      <td>0.011169</td>\n",
              "      <td>-0.011782</td>\n",
              "      <td>-0.004824</td>\n",
              "      <td>0.015559</td>\n",
              "      <td>-0.001914</td>\n",
              "    </tr>\n",
              "    <tr>\n",
              "      <th>is_weekend</th>\n",
              "      <td>-0.173958</td>\n",
              "      <td>-0.000509</td>\n",
              "      <td>0.791338</td>\n",
              "      <td>1.000000</td>\n",
              "      <td>-0.031899</td>\n",
              "      <td>0.020673</td>\n",
              "      <td>-0.016646</td>\n",
              "      <td>-0.036127</td>\n",
              "      <td>0.008462</td>\n",
              "      <td>-0.000517</td>\n",
              "    </tr>\n",
              "    <tr>\n",
              "      <th>is_holiday</th>\n",
              "      <td>-0.048249</td>\n",
              "      <td>0.002851</td>\n",
              "      <td>-0.075862</td>\n",
              "      <td>-0.031899</td>\n",
              "      <td>1.000000</td>\n",
              "      <td>-0.088527</td>\n",
              "      <td>-0.014858</td>\n",
              "      <td>-0.070798</td>\n",
              "      <td>-0.094942</td>\n",
              "      <td>0.002843</td>\n",
              "    </tr>\n",
              "    <tr>\n",
              "      <th>temperature</th>\n",
              "      <td>0.373327</td>\n",
              "      <td>0.184849</td>\n",
              "      <td>0.011169</td>\n",
              "      <td>0.020673</td>\n",
              "      <td>-0.088527</td>\n",
              "      <td>1.000000</td>\n",
              "      <td>0.093242</td>\n",
              "      <td>0.152476</td>\n",
              "      <td>0.063125</td>\n",
              "      <td>0.185121</td>\n",
              "    </tr>\n",
              "    <tr>\n",
              "      <th>is_start_of_semester</th>\n",
              "      <td>0.182683</td>\n",
              "      <td>0.009551</td>\n",
              "      <td>-0.011782</td>\n",
              "      <td>-0.016646</td>\n",
              "      <td>-0.014858</td>\n",
              "      <td>0.093242</td>\n",
              "      <td>1.000000</td>\n",
              "      <td>0.209862</td>\n",
              "      <td>-0.137160</td>\n",
              "      <td>0.010091</td>\n",
              "    </tr>\n",
              "    <tr>\n",
              "      <th>is_during_semester</th>\n",
              "      <td>0.335350</td>\n",
              "      <td>0.044676</td>\n",
              "      <td>-0.004824</td>\n",
              "      <td>-0.036127</td>\n",
              "      <td>-0.070798</td>\n",
              "      <td>0.152476</td>\n",
              "      <td>0.209862</td>\n",
              "      <td>1.000000</td>\n",
              "      <td>0.096556</td>\n",
              "      <td>0.045581</td>\n",
              "    </tr>\n",
              "    <tr>\n",
              "      <th>month</th>\n",
              "      <td>-0.097854</td>\n",
              "      <td>-0.023221</td>\n",
              "      <td>0.015559</td>\n",
              "      <td>0.008462</td>\n",
              "      <td>-0.094942</td>\n",
              "      <td>0.063125</td>\n",
              "      <td>-0.137160</td>\n",
              "      <td>0.096556</td>\n",
              "      <td>1.000000</td>\n",
              "      <td>-0.023624</td>\n",
              "    </tr>\n",
              "    <tr>\n",
              "      <th>hour</th>\n",
              "      <td>0.552049</td>\n",
              "      <td>0.999077</td>\n",
              "      <td>-0.001914</td>\n",
              "      <td>-0.000517</td>\n",
              "      <td>0.002843</td>\n",
              "      <td>0.185121</td>\n",
              "      <td>0.010091</td>\n",
              "      <td>0.045581</td>\n",
              "      <td>-0.023624</td>\n",
              "      <td>1.000000</td>\n",
              "    </tr>\n",
              "  </tbody>\n",
              "</table>\n",
              "</div>"
            ],
            "text/plain": [
              "                      number_people  timestamp  ...     month      hour\n",
              "number_people              1.000000   0.550218  ... -0.097854  0.552049\n",
              "timestamp                  0.550218   1.000000  ... -0.023221  0.999077\n",
              "day_of_week               -0.162062  -0.001793  ...  0.015559 -0.001914\n",
              "is_weekend                -0.173958  -0.000509  ...  0.008462 -0.000517\n",
              "is_holiday                -0.048249   0.002851  ... -0.094942  0.002843\n",
              "temperature                0.373327   0.184849  ...  0.063125  0.185121\n",
              "is_start_of_semester       0.182683   0.009551  ... -0.137160  0.010091\n",
              "is_during_semester         0.335350   0.044676  ...  0.096556  0.045581\n",
              "month                     -0.097854  -0.023221  ...  1.000000 -0.023624\n",
              "hour                       0.552049   0.999077  ... -0.023624  1.000000\n",
              "\n",
              "[10 rows x 10 columns]"
            ]
          },
          "metadata": {},
          "execution_count": 161
        }
      ]
    },
    {
      "cell_type": "code",
      "metadata": {
        "id": "uJtqtUtPupoF",
        "colab": {
          "base_uri": "https://localhost:8080/",
          "height": 379
        },
        "outputId": "79f4f91a-8bc8-448b-b4c5-0ff71ce92281"
      },
      "source": [
        "sns.heatmap(df.corr(),cmap = 'magma', linewidths=1)"
      ],
      "execution_count": 162,
      "outputs": [
        {
          "output_type": "execute_result",
          "data": {
            "text/plain": [
              "<matplotlib.axes._subplots.AxesSubplot at 0x7fed582ca610>"
            ]
          },
          "metadata": {},
          "execution_count": 162
        },
        {
          "output_type": "display_data",
          "data": {
            "image/png": "[encoded data removed]",
            "text/plain": [
              "<Figure size 432x288 with 2 Axes>"
            ]
          },
          "metadata": {
            "needs_background": "light"
          }
        }
      ]
    },
    {
      "cell_type": "code",
      "metadata": {
        "id": "4mhPmTDLu0ww",
        "colab": {
          "base_uri": "https://localhost:8080/"
        },
        "outputId": "0f3f81b5-f2e2-4bf7-aedc-084d4eb2b150"
      },
      "source": [
        "df.columns"
      ],
      "execution_count": 163,
      "outputs": [
        {
          "output_type": "execute_result",
          "data": {
            "text/plain": [
              "Index(['number_people', 'date', 'timestamp', 'day_of_week', 'is_weekend',\n",
              "       'is_holiday', 'temperature', 'is_start_of_semester',\n",
              "       'is_during_semester', 'month', 'hour'],\n",
              "      dtype='object')"
            ]
          },
          "metadata": {},
          "execution_count": 163
        }
      ]
    },
    {
      "cell_type": "code",
      "metadata": {
        "id": "jzq0VOTmu_9p",
        "colab": {
          "base_uri": "https://localhost:8080/",
          "height": 204
        },
        "outputId": "25c1d6c5-6374-47ea-ea42-02b33032a1c7"
      },
      "source": [
        "df.head()"
      ],
      "execution_count": 164,
      "outputs": [
        {
          "output_type": "execute_result",
          "data": {
            "text/html": [
              "<div>\n",
              "<style scoped>\n",
              "    .dataframe tbody tr th:only-of-type {\n",
              "        vertical-align: middle;\n",
              "    }\n",
              "\n",
              "    .dataframe tbody tr th {\n",
              "        vertical-align: top;\n",
              "    }\n",
              "\n",
              "    .dataframe thead th {\n",
              "        text-align: right;\n",
              "    }\n",
              "</style>\n",
              "<table border=\"1\" class=\"dataframe\">\n",
              "  <thead>\n",
              "    <tr style=\"text-align: right;\">\n",
              "      <th></th>\n",
              "      <th>number_people</th>\n",
              "      <th>date</th>\n",
              "      <th>timestamp</th>\n",
              "      <th>day_of_week</th>\n",
              "      <th>is_weekend</th>\n",
              "      <th>is_holiday</th>\n",
              "      <th>temperature</th>\n",
              "      <th>is_start_of_semester</th>\n",
              "      <th>is_during_semester</th>\n",
              "      <th>month</th>\n",
              "      <th>hour</th>\n",
              "    </tr>\n",
              "  </thead>\n",
              "  <tbody>\n",
              "    <tr>\n",
              "      <th>0</th>\n",
              "      <td>37</td>\n",
              "      <td>2015-08-14 17:00:11-07:00</td>\n",
              "      <td>61211</td>\n",
              "      <td>4</td>\n",
              "      <td>0</td>\n",
              "      <td>0</td>\n",
              "      <td>71.76</td>\n",
              "      <td>0</td>\n",
              "      <td>0</td>\n",
              "      <td>8</td>\n",
              "      <td>17</td>\n",
              "    </tr>\n",
              "    <tr>\n",
              "      <th>1</th>\n",
              "      <td>45</td>\n",
              "      <td>2015-08-14 17:20:14-07:00</td>\n",
              "      <td>62414</td>\n",
              "      <td>4</td>\n",
              "      <td>0</td>\n",
              "      <td>0</td>\n",
              "      <td>71.76</td>\n",
              "      <td>0</td>\n",
              "      <td>0</td>\n",
              "      <td>8</td>\n",
              "      <td>17</td>\n",
              "    </tr>\n",
              "    <tr>\n",
              "      <th>2</th>\n",
              "      <td>40</td>\n",
              "      <td>2015-08-14 17:30:15-07:00</td>\n",
              "      <td>63015</td>\n",
              "      <td>4</td>\n",
              "      <td>0</td>\n",
              "      <td>0</td>\n",
              "      <td>71.76</td>\n",
              "      <td>0</td>\n",
              "      <td>0</td>\n",
              "      <td>8</td>\n",
              "      <td>17</td>\n",
              "    </tr>\n",
              "    <tr>\n",
              "      <th>3</th>\n",
              "      <td>44</td>\n",
              "      <td>2015-08-14 17:40:16-07:00</td>\n",
              "      <td>63616</td>\n",
              "      <td>4</td>\n",
              "      <td>0</td>\n",
              "      <td>0</td>\n",
              "      <td>71.76</td>\n",
              "      <td>0</td>\n",
              "      <td>0</td>\n",
              "      <td>8</td>\n",
              "      <td>17</td>\n",
              "    </tr>\n",
              "    <tr>\n",
              "      <th>4</th>\n",
              "      <td>45</td>\n",
              "      <td>2015-08-14 17:50:17-07:00</td>\n",
              "      <td>64217</td>\n",
              "      <td>4</td>\n",
              "      <td>0</td>\n",
              "      <td>0</td>\n",
              "      <td>71.76</td>\n",
              "      <td>0</td>\n",
              "      <td>0</td>\n",
              "      <td>8</td>\n",
              "      <td>17</td>\n",
              "    </tr>\n",
              "  </tbody>\n",
              "</table>\n",
              "</div>"
            ],
            "text/plain": [
              "   number_people                       date  ...  month  hour\n",
              "0             37  2015-08-14 17:00:11-07:00  ...      8    17\n",
              "1             45  2015-08-14 17:20:14-07:00  ...      8    17\n",
              "2             40  2015-08-14 17:30:15-07:00  ...      8    17\n",
              "3             44  2015-08-14 17:40:16-07:00  ...      8    17\n",
              "4             45  2015-08-14 17:50:17-07:00  ...      8    17\n",
              "\n",
              "[5 rows x 11 columns]"
            ]
          },
          "metadata": {},
          "execution_count": 164
        }
      ]
    },
    {
      "cell_type": "code",
      "metadata": {
        "id": "VD9tmIWtvLNq"
      },
      "source": [
        "X = df.iloc[:,1:]\n",
        "Y = df.iloc[:,0]"
      ],
      "execution_count": 165,
      "outputs": []
    },
    {
      "cell_type": "code",
      "metadata": {
        "id": "UxZuhNmovdow",
        "colab": {
          "base_uri": "https://localhost:8080/",
          "height": 204
        },
        "outputId": "fac13a01-a492-4cca-c28d-7d8c2d4f4640"
      },
      "source": [
        "X.head()"
      ],
      "execution_count": 166,
      "outputs": [
        {
          "output_type": "execute_result",
          "data": {
            "text/html": [
              "<div>\n",
              "<style scoped>\n",
              "    .dataframe tbody tr th:only-of-type {\n",
              "        vertical-align: middle;\n",
              "    }\n",
              "\n",
              "    .dataframe tbody tr th {\n",
              "        vertical-align: top;\n",
              "    }\n",
              "\n",
              "    .dataframe thead th {\n",
              "        text-align: right;\n",
              "    }\n",
              "</style>\n",
              "<table border=\"1\" class=\"dataframe\">\n",
              "  <thead>\n",
              "    <tr style=\"text-align: right;\">\n",
              "      <th></th>\n",
              "      <th>date</th>\n",
              "      <th>timestamp</th>\n",
              "      <th>day_of_week</th>\n",
              "      <th>is_weekend</th>\n",
              "      <th>is_holiday</th>\n",
              "      <th>temperature</th>\n",
              "      <th>is_start_of_semester</th>\n",
              "      <th>is_during_semester</th>\n",
              "      <th>month</th>\n",
              "      <th>hour</th>\n",
              "    </tr>\n",
              "  </thead>\n",
              "  <tbody>\n",
              "    <tr>\n",
              "      <th>0</th>\n",
              "      <td>2015-08-14 17:00:11-07:00</td>\n",
              "      <td>61211</td>\n",
              "      <td>4</td>\n",
              "      <td>0</td>\n",
              "      <td>0</td>\n",
              "      <td>71.76</td>\n",
              "      <td>0</td>\n",
              "      <td>0</td>\n",
              "      <td>8</td>\n",
              "      <td>17</td>\n",
              "    </tr>\n",
              "    <tr>\n",
              "      <th>1</th>\n",
              "      <td>2015-08-14 17:20:14-07:00</td>\n",
              "      <td>62414</td>\n",
              "      <td>4</td>\n",
              "      <td>0</td>\n",
              "      <td>0</td>\n",
              "      <td>71.76</td>\n",
              "      <td>0</td>\n",
              "      <td>0</td>\n",
              "      <td>8</td>\n",
              "      <td>17</td>\n",
              "    </tr>\n",
              "    <tr>\n",
              "      <th>2</th>\n",
              "      <td>2015-08-14 17:30:15-07:00</td>\n",
              "      <td>63015</td>\n",
              "      <td>4</td>\n",
              "      <td>0</td>\n",
              "      <td>0</td>\n",
              "      <td>71.76</td>\n",
              "      <td>0</td>\n",
              "      <td>0</td>\n",
              "      <td>8</td>\n",
              "      <td>17</td>\n",
              "    </tr>\n",
              "    <tr>\n",
              "      <th>3</th>\n",
              "      <td>2015-08-14 17:40:16-07:00</td>\n",
              "      <td>63616</td>\n",
              "      <td>4</td>\n",
              "      <td>0</td>\n",
              "      <td>0</td>\n",
              "      <td>71.76</td>\n",
              "      <td>0</td>\n",
              "      <td>0</td>\n",
              "      <td>8</td>\n",
              "      <td>17</td>\n",
              "    </tr>\n",
              "    <tr>\n",
              "      <th>4</th>\n",
              "      <td>2015-08-14 17:50:17-07:00</td>\n",
              "      <td>64217</td>\n",
              "      <td>4</td>\n",
              "      <td>0</td>\n",
              "      <td>0</td>\n",
              "      <td>71.76</td>\n",
              "      <td>0</td>\n",
              "      <td>0</td>\n",
              "      <td>8</td>\n",
              "      <td>17</td>\n",
              "    </tr>\n",
              "  </tbody>\n",
              "</table>\n",
              "</div>"
            ],
            "text/plain": [
              "                        date  timestamp  ...  month  hour\n",
              "0  2015-08-14 17:00:11-07:00      61211  ...      8    17\n",
              "1  2015-08-14 17:20:14-07:00      62414  ...      8    17\n",
              "2  2015-08-14 17:30:15-07:00      63015  ...      8    17\n",
              "3  2015-08-14 17:40:16-07:00      63616  ...      8    17\n",
              "4  2015-08-14 17:50:17-07:00      64217  ...      8    17\n",
              "\n",
              "[5 rows x 10 columns]"
            ]
          },
          "metadata": {},
          "execution_count": 166
        }
      ]
    },
    {
      "cell_type": "code",
      "metadata": {
        "id": "a0kHK8tWvfnL",
        "colab": {
          "base_uri": "https://localhost:8080/"
        },
        "outputId": "c8fd614e-6905-4a98-ae31-a94aea115515"
      },
      "source": [
        "Y.head()"
      ],
      "execution_count": 167,
      "outputs": [
        {
          "output_type": "execute_result",
          "data": {
            "text/plain": [
              "0    37\n",
              "1    45\n",
              "2    40\n",
              "3    44\n",
              "4    45\n",
              "Name: number_people, dtype: int64"
            ]
          },
          "metadata": {},
          "execution_count": 167
        }
      ]
    },
    {
      "cell_type": "code",
      "metadata": {
        "id": "5ULeJqsjvrou",
        "colab": {
          "base_uri": "https://localhost:8080/"
        },
        "outputId": "9cd41b5f-052c-4dd4-c895-b9b355e41dd4"
      },
      "source": [
        "X.info()"
      ],
      "execution_count": 168,
      "outputs": [
        {
          "output_type": "stream",
          "name": "stdout",
          "text": [
            "<class 'pandas.core.frame.DataFrame'>\n",
            "RangeIndex: 62184 entries, 0 to 62183\n",
            "Data columns (total 10 columns):\n",
            " #   Column                Non-Null Count  Dtype  \n",
            "---  ------                --------------  -----  \n",
            " 0   date                  62184 non-null  object \n",
            " 1   timestamp             62184 non-null  int64  \n",
            " 2   day_of_week           62184 non-null  int64  \n",
            " 3   is_weekend            62184 non-null  int64  \n",
            " 4   is_holiday            62184 non-null  int64  \n",
            " 5   temperature           62184 non-null  float64\n",
            " 6   is_start_of_semester  62184 non-null  int64  \n",
            " 7   is_during_semester    62184 non-null  int64  \n",
            " 8   month                 62184 non-null  int64  \n",
            " 9   hour                  62184 non-null  int64  \n",
            "dtypes: float64(1), int64(8), object(1)\n",
            "memory usage: 4.7+ MB\n"
          ]
        }
      ]
    },
    {
      "cell_type": "code",
      "metadata": {
        "id": "aWTdkxA5v-8n"
      },
      "source": [
        "X.drop('date',axis=1,inplace=True)"
      ],
      "execution_count": 169,
      "outputs": []
    },
    {
      "cell_type": "code",
      "metadata": {
        "id": "21iotrkbwTTk",
        "colab": {
          "base_uri": "https://localhost:8080/",
          "height": 204
        },
        "outputId": "ff5ee0e9-ff7a-491d-dc86-cddf443cc0da"
      },
      "source": [
        "X.head()"
      ],
      "execution_count": 170,
      "outputs": [
        {
          "output_type": "execute_result",
          "data": {
            "text/html": [
              "<div>\n",
              "<style scoped>\n",
              "    .dataframe tbody tr th:only-of-type {\n",
              "        vertical-align: middle;\n",
              "    }\n",
              "\n",
              "    .dataframe tbody tr th {\n",
              "        vertical-align: top;\n",
              "    }\n",
              "\n",
              "    .dataframe thead th {\n",
              "        text-align: right;\n",
              "    }\n",
              "</style>\n",
              "<table border=\"1\" class=\"dataframe\">\n",
              "  <thead>\n",
              "    <tr style=\"text-align: right;\">\n",
              "      <th></th>\n",
              "      <th>timestamp</th>\n",
              "      <th>day_of_week</th>\n",
              "      <th>is_weekend</th>\n",
              "      <th>is_holiday</th>\n",
              "      <th>temperature</th>\n",
              "      <th>is_start_of_semester</th>\n",
              "      <th>is_during_semester</th>\n",
              "      <th>month</th>\n",
              "      <th>hour</th>\n",
              "    </tr>\n",
              "  </thead>\n",
              "  <tbody>\n",
              "    <tr>\n",
              "      <th>0</th>\n",
              "      <td>61211</td>\n",
              "      <td>4</td>\n",
              "      <td>0</td>\n",
              "      <td>0</td>\n",
              "      <td>71.76</td>\n",
              "      <td>0</td>\n",
              "      <td>0</td>\n",
              "      <td>8</td>\n",
              "      <td>17</td>\n",
              "    </tr>\n",
              "    <tr>\n",
              "      <th>1</th>\n",
              "      <td>62414</td>\n",
              "      <td>4</td>\n",
              "      <td>0</td>\n",
              "      <td>0</td>\n",
              "      <td>71.76</td>\n",
              "      <td>0</td>\n",
              "      <td>0</td>\n",
              "      <td>8</td>\n",
              "      <td>17</td>\n",
              "    </tr>\n",
              "    <tr>\n",
              "      <th>2</th>\n",
              "      <td>63015</td>\n",
              "      <td>4</td>\n",
              "      <td>0</td>\n",
              "      <td>0</td>\n",
              "      <td>71.76</td>\n",
              "      <td>0</td>\n",
              "      <td>0</td>\n",
              "      <td>8</td>\n",
              "      <td>17</td>\n",
              "    </tr>\n",
              "    <tr>\n",
              "      <th>3</th>\n",
              "      <td>63616</td>\n",
              "      <td>4</td>\n",
              "      <td>0</td>\n",
              "      <td>0</td>\n",
              "      <td>71.76</td>\n",
              "      <td>0</td>\n",
              "      <td>0</td>\n",
              "      <td>8</td>\n",
              "      <td>17</td>\n",
              "    </tr>\n",
              "    <tr>\n",
              "      <th>4</th>\n",
              "      <td>64217</td>\n",
              "      <td>4</td>\n",
              "      <td>0</td>\n",
              "      <td>0</td>\n",
              "      <td>71.76</td>\n",
              "      <td>0</td>\n",
              "      <td>0</td>\n",
              "      <td>8</td>\n",
              "      <td>17</td>\n",
              "    </tr>\n",
              "  </tbody>\n",
              "</table>\n",
              "</div>"
            ],
            "text/plain": [
              "   timestamp  day_of_week  is_weekend  ...  is_during_semester  month  hour\n",
              "0      61211            4           0  ...                   0      8    17\n",
              "1      62414            4           0  ...                   0      8    17\n",
              "2      63015            4           0  ...                   0      8    17\n",
              "3      63616            4           0  ...                   0      8    17\n",
              "4      64217            4           0  ...                   0      8    17\n",
              "\n",
              "[5 rows x 9 columns]"
            ]
          },
          "metadata": {},
          "execution_count": 170
        }
      ]
    },
    {
      "cell_type": "code",
      "metadata": {
        "id": "kDwGQIKLwacb"
      },
      "source": [
        "from sklearn.model_selection import train_test_split\n",
        "X_train,X_test,Y_train,Y_test = train_test_split(X,Y,test_size= 0.20,random_state= 0)"
      ],
      "execution_count": 171,
      "outputs": []
    },
    {
      "cell_type": "code",
      "metadata": {
        "id": "cefK1pyBw55O",
        "colab": {
          "base_uri": "https://localhost:8080/"
        },
        "outputId": "8ee82acf-c452-4b55-ad3a-5792f298105a"
      },
      "source": [
        "col = list(X_train.columns)\n",
        "col"
      ],
      "execution_count": 172,
      "outputs": [
        {
          "output_type": "execute_result",
          "data": {
            "text/plain": [
              "['timestamp',\n",
              " 'day_of_week',\n",
              " 'is_weekend',\n",
              " 'is_holiday',\n",
              " 'temperature',\n",
              " 'is_start_of_semester',\n",
              " 'is_during_semester',\n",
              " 'month',\n",
              " 'hour']"
            ]
          },
          "metadata": {},
          "execution_count": 172
        }
      ]
    },
    {
      "cell_type": "code",
      "metadata": {
        "id": "42YnTQYFxAJD"
      },
      "source": [
        "# Data must be sacled before PCA\n",
        "from sklearn.preprocessing import StandardScaler\n",
        "scaler = StandardScaler()\n",
        "X_train[col] = scaler.fit_transform(X_train[col])\n",
        "X_test[col] = scaler.transform(X_test[col])"
      ],
      "execution_count": 173,
      "outputs": []
    },
    {
      "cell_type": "code",
      "metadata": {
        "id": "bcKgMwmZxUDW",
        "colab": {
          "base_uri": "https://localhost:8080/",
          "height": 204
        },
        "outputId": "a1d93d92-f3c4-4360-a4a8-04f39f4b7440"
      },
      "source": [
        "X_train.head()"
      ],
      "execution_count": 174,
      "outputs": [
        {
          "output_type": "execute_result",
          "data": {
            "text/html": [
              "<div>\n",
              "<style scoped>\n",
              "    .dataframe tbody tr th:only-of-type {\n",
              "        vertical-align: middle;\n",
              "    }\n",
              "\n",
              "    .dataframe tbody tr th {\n",
              "        vertical-align: top;\n",
              "    }\n",
              "\n",
              "    .dataframe thead th {\n",
              "        text-align: right;\n",
              "    }\n",
              "</style>\n",
              "<table border=\"1\" class=\"dataframe\">\n",
              "  <thead>\n",
              "    <tr style=\"text-align: right;\">\n",
              "      <th></th>\n",
              "      <th>timestamp</th>\n",
              "      <th>day_of_week</th>\n",
              "      <th>is_weekend</th>\n",
              "      <th>is_holiday</th>\n",
              "      <th>temperature</th>\n",
              "      <th>is_start_of_semester</th>\n",
              "      <th>is_during_semester</th>\n",
              "      <th>month</th>\n",
              "      <th>hour</th>\n",
              "    </tr>\n",
              "  </thead>\n",
              "  <tbody>\n",
              "    <tr>\n",
              "      <th>19329</th>\n",
              "      <td>0.436362</td>\n",
              "      <td>1.510975</td>\n",
              "      <td>1.591750</td>\n",
              "      <td>-0.05079</td>\n",
              "      <td>0.385661</td>\n",
              "      <td>-0.291538</td>\n",
              "      <td>0.716938</td>\n",
              "      <td>-1.579075</td>\n",
              "      <td>0.409363</td>\n",
              "    </tr>\n",
              "    <tr>\n",
              "      <th>38712</th>\n",
              "      <td>-1.379801</td>\n",
              "      <td>1.510975</td>\n",
              "      <td>1.591750</td>\n",
              "      <td>-0.05079</td>\n",
              "      <td>-0.245076</td>\n",
              "      <td>-0.291538</td>\n",
              "      <td>-1.394821</td>\n",
              "      <td>0.161591</td>\n",
              "      <td>-1.377214</td>\n",
              "    </tr>\n",
              "    <tr>\n",
              "      <th>3711</th>\n",
              "      <td>-1.744619</td>\n",
              "      <td>-0.997384</td>\n",
              "      <td>-0.628239</td>\n",
              "      <td>-0.05079</td>\n",
              "      <td>0.309783</td>\n",
              "      <td>-0.291538</td>\n",
              "      <td>0.716938</td>\n",
              "      <td>0.451702</td>\n",
              "      <td>-1.674977</td>\n",
              "    </tr>\n",
              "    <tr>\n",
              "      <th>41920</th>\n",
              "      <td>-1.432673</td>\n",
              "      <td>-0.997384</td>\n",
              "      <td>-0.628239</td>\n",
              "      <td>-0.05079</td>\n",
              "      <td>0.096376</td>\n",
              "      <td>3.430082</td>\n",
              "      <td>0.716938</td>\n",
              "      <td>0.161591</td>\n",
              "      <td>-1.377214</td>\n",
              "    </tr>\n",
              "    <tr>\n",
              "      <th>43371</th>\n",
              "      <td>0.713859</td>\n",
              "      <td>0.507632</td>\n",
              "      <td>-0.628239</td>\n",
              "      <td>-0.05079</td>\n",
              "      <td>0.723951</td>\n",
              "      <td>-0.291538</td>\n",
              "      <td>0.716938</td>\n",
              "      <td>0.451702</td>\n",
              "      <td>0.707126</td>\n",
              "    </tr>\n",
              "  </tbody>\n",
              "</table>\n",
              "</div>"
            ],
            "text/plain": [
              "       timestamp  day_of_week  ...     month      hour\n",
              "19329   0.436362     1.510975  ... -1.579075  0.409363\n",
              "38712  -1.379801     1.510975  ...  0.161591 -1.377214\n",
              "3711   -1.744619    -0.997384  ...  0.451702 -1.674977\n",
              "41920  -1.432673    -0.997384  ...  0.161591 -1.377214\n",
              "43371   0.713859     0.507632  ...  0.451702  0.707126\n",
              "\n",
              "[5 rows x 9 columns]"
            ]
          },
          "metadata": {},
          "execution_count": 174
        }
      ]
    },
    {
      "cell_type": "code",
      "metadata": {
        "id": "RQ20zuCmx_Z4",
        "colab": {
          "base_uri": "https://localhost:8080/",
          "height": 204
        },
        "outputId": "6f67bcf4-c28a-4f78-b24f-88b8306b5eee"
      },
      "source": [
        "X_test.head()"
      ],
      "execution_count": 175,
      "outputs": [
        {
          "output_type": "execute_result",
          "data": {
            "text/html": [
              "<div>\n",
              "<style scoped>\n",
              "    .dataframe tbody tr th:only-of-type {\n",
              "        vertical-align: middle;\n",
              "    }\n",
              "\n",
              "    .dataframe tbody tr th {\n",
              "        vertical-align: top;\n",
              "    }\n",
              "\n",
              "    .dataframe thead th {\n",
              "        text-align: right;\n",
              "    }\n",
              "</style>\n",
              "<table border=\"1\" class=\"dataframe\">\n",
              "  <thead>\n",
              "    <tr style=\"text-align: right;\">\n",
              "      <th></th>\n",
              "      <th>timestamp</th>\n",
              "      <th>day_of_week</th>\n",
              "      <th>is_weekend</th>\n",
              "      <th>is_holiday</th>\n",
              "      <th>temperature</th>\n",
              "      <th>is_start_of_semester</th>\n",
              "      <th>is_during_semester</th>\n",
              "      <th>month</th>\n",
              "      <th>hour</th>\n",
              "    </tr>\n",
              "  </thead>\n",
              "  <tbody>\n",
              "    <tr>\n",
              "      <th>6682</th>\n",
              "      <td>-0.778131</td>\n",
              "      <td>0.005960</td>\n",
              "      <td>-0.628239</td>\n",
              "      <td>-0.05079</td>\n",
              "      <td>0.229162</td>\n",
              "      <td>-0.291538</td>\n",
              "      <td>0.716938</td>\n",
              "      <td>0.741814</td>\n",
              "      <td>-0.781688</td>\n",
              "    </tr>\n",
              "    <tr>\n",
              "      <th>37799</th>\n",
              "      <td>0.877185</td>\n",
              "      <td>1.510975</td>\n",
              "      <td>1.591750</td>\n",
              "      <td>-0.05079</td>\n",
              "      <td>0.589583</td>\n",
              "      <td>-0.291538</td>\n",
              "      <td>-1.394821</td>\n",
              "      <td>-0.128520</td>\n",
              "      <td>0.856008</td>\n",
              "    </tr>\n",
              "    <tr>\n",
              "      <th>2657</th>\n",
              "      <td>0.262792</td>\n",
              "      <td>0.005960</td>\n",
              "      <td>-0.628239</td>\n",
              "      <td>-0.05079</td>\n",
              "      <td>2.214638</td>\n",
              "      <td>-0.291538</td>\n",
              "      <td>0.716938</td>\n",
              "      <td>0.451702</td>\n",
              "      <td>0.260482</td>\n",
              "    </tr>\n",
              "    <tr>\n",
              "      <th>41010</th>\n",
              "      <td>-1.695382</td>\n",
              "      <td>-0.997384</td>\n",
              "      <td>-0.628239</td>\n",
              "      <td>-0.05079</td>\n",
              "      <td>0.123249</td>\n",
              "      <td>-0.291538</td>\n",
              "      <td>-1.394821</td>\n",
              "      <td>0.161591</td>\n",
              "      <td>-1.674977</td>\n",
              "    </tr>\n",
              "    <tr>\n",
              "      <th>35104</th>\n",
              "      <td>1.648624</td>\n",
              "      <td>-0.997384</td>\n",
              "      <td>-0.628239</td>\n",
              "      <td>-0.05079</td>\n",
              "      <td>-0.034830</td>\n",
              "      <td>-0.291538</td>\n",
              "      <td>-1.394821</td>\n",
              "      <td>-0.128520</td>\n",
              "      <td>1.600415</td>\n",
              "    </tr>\n",
              "  </tbody>\n",
              "</table>\n",
              "</div>"
            ],
            "text/plain": [
              "       timestamp  day_of_week  ...     month      hour\n",
              "6682   -0.778131     0.005960  ...  0.741814 -0.781688\n",
              "37799   0.877185     1.510975  ... -0.128520  0.856008\n",
              "2657    0.262792     0.005960  ...  0.451702  0.260482\n",
              "41010  -1.695382    -0.997384  ...  0.161591 -1.674977\n",
              "35104   1.648624    -0.997384  ... -0.128520  1.600415\n",
              "\n",
              "[5 rows x 9 columns]"
            ]
          },
          "metadata": {},
          "execution_count": 175
        }
      ]
    },
    {
      "cell_type": "markdown",
      "metadata": {
        "id": "esRtU1ElyOXJ"
      },
      "source": [
        "# PCA considering all components"
      ]
    },
    {
      "cell_type": "code",
      "metadata": {
        "id": "KV4WXDJjyTks",
        "colab": {
          "base_uri": "https://localhost:8080/"
        },
        "outputId": "02578eb0-4864-42f0-df37-4b15b1320fc9"
      },
      "source": [
        "len(X_train.columns)"
      ],
      "execution_count": 176,
      "outputs": [
        {
          "output_type": "execute_result",
          "data": {
            "text/plain": [
              "9"
            ]
          },
          "metadata": {},
          "execution_count": 176
        }
      ]
    },
    {
      "cell_type": "code",
      "metadata": {
        "id": "ERsU69YSyX1_"
      },
      "source": [
        "# https://scikit-learn.org/stable/modules/generated/sklearn.decomposition.PCA.html\n",
        "from sklearn.decomposition import PCA\n",
        "pca = PCA()\n",
        "X_train[col] = pca.fit_transform(X_train[col])\n",
        "X_test[col] = pca.transform(X_test[col])"
      ],
      "execution_count": 177,
      "outputs": []
    },
    {
      "cell_type": "code",
      "metadata": {
        "id": "tsi-YIJGyiWb",
        "colab": {
          "base_uri": "https://localhost:8080/"
        },
        "outputId": "da4a5204-5f12-4125-a0aa-d7f8efa90020"
      },
      "source": [
        "explained_variance = pca.explained_variance_ratio_\n",
        "explained_variance"
      ],
      "execution_count": 178,
      "outputs": [
        {
          "output_type": "execute_result",
          "data": {
            "text/plain": [
              "array([2.30955437e-01, 2.00081683e-01, 1.45123034e-01, 1.28658061e-01,\n",
              "       1.01643906e-01, 9.27673503e-02, 7.75920089e-02, 2.30759000e-02,\n",
              "       1.02618932e-04])"
            ]
          },
          "metadata": {},
          "execution_count": 178
        }
      ]
    },
    {
      "cell_type": "code",
      "metadata": {
        "id": "rugzEzzMzJ5I",
        "colab": {
          "base_uri": "https://localhost:8080/"
        },
        "outputId": "87e41fcf-3703-4387-819f-ed30add7d77d"
      },
      "source": [
        "print(\"Type of explained_variance is : \",type(explained_variance))"
      ],
      "execution_count": 179,
      "outputs": [
        {
          "output_type": "stream",
          "name": "stdout",
          "text": [
            "Type of explained_variance is :  <class 'numpy.ndarray'>\n"
          ]
        }
      ]
    },
    {
      "cell_type": "code",
      "metadata": {
        "id": "B8UtUH7lznlM",
        "colab": {
          "base_uri": "https://localhost:8080/"
        },
        "outputId": "f8a0e590-c3cf-4cf9-c19a-efe2c571a6cc"
      },
      "source": [
        "components = len(explained_variance)\n",
        "components"
      ],
      "execution_count": 180,
      "outputs": [
        {
          "output_type": "execute_result",
          "data": {
            "text/plain": [
              "9"
            ]
          },
          "metadata": {},
          "execution_count": 180
        }
      ]
    },
    {
      "cell_type": "code",
      "metadata": {
        "id": "T_bv4Kkmzujm",
        "colab": {
          "base_uri": "https://localhost:8080/"
        },
        "outputId": "35e0a808-a90e-453a-b8cd-9be02cba7f8b"
      },
      "source": [
        "np.sum(explained_variance)"
      ],
      "execution_count": 181,
      "outputs": [
        {
          "output_type": "execute_result",
          "data": {
            "text/plain": [
              "1.0"
            ]
          },
          "metadata": {},
          "execution_count": 181
        }
      ]
    },
    {
      "cell_type": "code",
      "metadata": {
        "id": "7fZKYAwA0Ls_",
        "colab": {
          "base_uri": "https://localhost:8080/"
        },
        "outputId": "84f1e13e-9dc5-4de4-ccde-929d51ece077"
      },
      "source": [
        "np.sum(explained_variance[:2])"
      ],
      "execution_count": 182,
      "outputs": [
        {
          "output_type": "execute_result",
          "data": {
            "text/plain": [
              "0.43103712014149054"
            ]
          },
          "metadata": {},
          "execution_count": 182
        }
      ]
    },
    {
      "cell_type": "code",
      "metadata": {
        "id": "qZWxzZZ20SJx",
        "colab": {
          "base_uri": "https://localhost:8080/"
        },
        "outputId": "4b49e500-107e-45d1-f8c6-256290bdf36f"
      },
      "source": [
        "np.sum(explained_variance[:3])"
      ],
      "execution_count": 183,
      "outputs": [
        {
          "output_type": "execute_result",
          "data": {
            "text/plain": [
              "0.57616015429263"
            ]
          },
          "metadata": {},
          "execution_count": 183
        }
      ]
    },
    {
      "cell_type": "code",
      "metadata": {
        "id": "yBnykTiG0XLV",
        "colab": {
          "base_uri": "https://localhost:8080/"
        },
        "outputId": "11a9859a-f8fd-47d3-bbb3-065a37b6146b"
      },
      "source": [
        "np.sum(explained_variance[:4])"
      ],
      "execution_count": 184,
      "outputs": [
        {
          "output_type": "execute_result",
          "data": {
            "text/plain": [
              "0.7048182153961509"
            ]
          },
          "metadata": {},
          "execution_count": 184
        }
      ]
    },
    {
      "cell_type": "code",
      "metadata": {
        "id": "N_WApAEl0ZlH",
        "colab": {
          "base_uri": "https://localhost:8080/"
        },
        "outputId": "d31c9ed0-c96a-466e-8d99-e27be5f22e39"
      },
      "source": [
        "np.sum(explained_variance[:5])"
      ],
      "execution_count": 185,
      "outputs": [
        {
          "output_type": "execute_result",
          "data": {
            "text/plain": [
              "0.8064621218734587"
            ]
          },
          "metadata": {},
          "execution_count": 185
        }
      ]
    },
    {
      "cell_type": "code",
      "metadata": {
        "id": "MSpTvmI-0cDP",
        "colab": {
          "base_uri": "https://localhost:8080/"
        },
        "outputId": "3e0b685f-3f96-497e-a8da-4b66c3cbc297"
      },
      "source": [
        "np.sum(explained_variance[:6])"
      ],
      "execution_count": 186,
      "outputs": [
        {
          "output_type": "execute_result",
          "data": {
            "text/plain": [
              "0.8992294721983571"
            ]
          },
          "metadata": {},
          "execution_count": 186
        }
      ]
    },
    {
      "cell_type": "code",
      "metadata": {
        "id": "WC3mbIMQ0dha",
        "colab": {
          "base_uri": "https://localhost:8080/"
        },
        "outputId": "293694b4-773b-4284-9c1a-38a50d69aaa0"
      },
      "source": [
        "np.sum(explained_variance[:7])"
      ],
      "execution_count": 187,
      "outputs": [
        {
          "output_type": "execute_result",
          "data": {
            "text/plain": [
              "0.976821481108041"
            ]
          },
          "metadata": {},
          "execution_count": 187
        }
      ]
    },
    {
      "cell_type": "code",
      "metadata": {
        "id": "saY-2xpk0fu6",
        "colab": {
          "base_uri": "https://localhost:8080/"
        },
        "outputId": "9dc659e6-5f06-4dc8-e5ae-7dec2c0db422"
      },
      "source": [
        "np.sum(explained_variance[7:])"
      ],
      "execution_count": 188,
      "outputs": [
        {
          "output_type": "execute_result",
          "data": {
            "text/plain": [
              "0.023178518891959"
            ]
          },
          "metadata": {},
          "execution_count": 188
        }
      ]
    },
    {
      "cell_type": "code",
      "metadata": {
        "id": "On0XeNpE0ltB",
        "colab": {
          "base_uri": "https://localhost:8080/",
          "height": 297
        },
        "outputId": "0129956d-4d0a-4c1c-c73b-ea453057646e"
      },
      "source": [
        "plt.bar(range(components),explained_variance,alpha = 0.5,align = 'center',label='Individual Explained')\n",
        "plt.ylabel('Explained Variance')\n",
        "plt.xlabel('Principal Components')\n",
        "plt.legend(loc = 'best')\n",
        "plt.tight_layout()"
      ],
      "execution_count": 189,
      "outputs": [
        {
          "output_type": "display_data",
          "data": {
            "image/png": "[encoded data removed]",
            "text/plain": [
              "<Figure size 432x288 with 1 Axes>"
            ]
          },
          "metadata": {
            "needs_background": "light"
          }
        }
      ]
    },
    {
      "cell_type": "code",
      "metadata": {
        "id": "oRjhLk0m1V1D"
      },
      "source": [
        "from sklearn.ensemble import RandomForestRegressor\n",
        "model = RandomForestRegressor()"
      ],
      "execution_count": 190,
      "outputs": []
    },
    {
      "cell_type": "code",
      "metadata": {
        "id": "frpC9AnU2Zp-",
        "colab": {
          "base_uri": "https://localhost:8080/"
        },
        "outputId": "1695aff9-eef4-4580-ca8c-d8a21955c6e7"
      },
      "source": [
        "from tqdm import tqdm\n",
        "estimators = np.arange(10,200,30)\n",
        "scores = []\n",
        "for n in tqdm(estimators):\n",
        "    model.set_params(n_estimators=n, n_jobs=-1)\n",
        "    model.fit(X_train,Y_train)\n",
        "    scores.append(model.score(X_test, Y_test))\n",
        "print(scores)"
      ],
      "execution_count": 191,
      "outputs": [
        {
          "output_type": "stream",
          "name": "stderr",
          "text": [
            "100%|██████████| 7/7 [04:39<00:00, 39.90s/it]"
          ]
        },
        {
          "output_type": "stream",
          "name": "stdout",
          "text": [
            "[0.8854909064926274, 0.8980821696932877, 0.8976940567917212, 0.8992887269776003, 0.8988067850316547, 0.9008331511032647, 0.9000633822106203]\n"
          ]
        },
        {
          "output_type": "stream",
          "name": "stderr",
          "text": [
            "\n"
          ]
        }
      ]
    },
    {
      "cell_type": "code",
      "metadata": {
        "id": "P-hgGJ3w22iU",
        "colab": {
          "base_uri": "https://localhost:8080/",
          "height": 313
        },
        "outputId": "b68ae3f2-6c2f-49f9-f198-d7e948996dc0"
      },
      "source": [
        "plt.title(\"Effect of n_estimators\")\n",
        "plt.xlabel(\"n_estimator\")\n",
        "plt.ylabel(\"score\")\n",
        "plt.plot(estimators, scores)"
      ],
      "execution_count": 192,
      "outputs": [
        {
          "output_type": "execute_result",
          "data": {
            "text/plain": [
              "[<matplotlib.lines.Line2D at 0x7fed5cd3cf90>]"
            ]
          },
          "metadata": {},
          "execution_count": 192
        },
        {
          "output_type": "display_data",
          "data": {
            "image/png": "[encoded data removed]",
            "text/plain": [
              "<Figure size 432x288 with 1 Axes>"
            ]
          },
          "metadata": {
            "needs_background": "light"
          }
        }
      ]
    },
    {
      "cell_type": "code",
      "metadata": {
        "id": "GqI2j3QH4IML",
        "colab": {
          "base_uri": "https://localhost:8080/"
        },
        "outputId": "a0eb3a57-8ac4-4f3a-a797-d5a573642d73"
      },
      "source": [
        "regressor = RandomForestRegressor(n_estimators=130,random_state=0)\n",
        "regressor.fit(X_train,Y_train)"
      ],
      "execution_count": 193,
      "outputs": [
        {
          "output_type": "execute_result",
          "data": {
            "text/plain": [
              "RandomForestRegressor(bootstrap=True, ccp_alpha=0.0, criterion='mse',\n",
              "                      max_depth=None, max_features='auto', max_leaf_nodes=None,\n",
              "                      max_samples=None, min_impurity_decrease=0.0,\n",
              "                      min_impurity_split=None, min_samples_leaf=1,\n",
              "                      min_samples_split=2, min_weight_fraction_leaf=0.0,\n",
              "                      n_estimators=130, n_jobs=None, oob_score=False,\n",
              "                      random_state=0, verbose=0, warm_start=False)"
            ]
          },
          "metadata": {},
          "execution_count": 193
        }
      ]
    },
    {
      "cell_type": "code",
      "metadata": {
        "id": "v7ofq3ln4vbI"
      },
      "source": [
        "Y_pred = regressor.predict(X_test)"
      ],
      "execution_count": 194,
      "outputs": []
    },
    {
      "cell_type": "code",
      "metadata": {
        "id": "Q_id8al6F_Ab",
        "colab": {
          "base_uri": "https://localhost:8080/"
        },
        "outputId": "e2f6ca44-bb82-409f-fa46-695664c4dc89"
      },
      "source": [
        "from sklearn.metrics import mean_squared_error,r2_score\n",
        "r2_score(Y_test,Y_pred)"
      ],
      "execution_count": 195,
      "outputs": [
        {
          "output_type": "execute_result",
          "data": {
            "text/plain": [
              "0.8992298415704245"
            ]
          },
          "metadata": {},
          "execution_count": 195
        }
      ]
    },
    {
      "cell_type": "code",
      "metadata": {
        "id": "y3nZxDRWGX69",
        "colab": {
          "base_uri": "https://localhost:8080/"
        },
        "outputId": "c16b68b9-cbd9-4dae-c53a-eb0127f7d54c"
      },
      "source": [
        "rmse =np.sqrt(mean_squared_error(Y_test,Y_pred))\n",
        "rmse"
      ],
      "execution_count": 196,
      "outputs": [
        {
          "output_type": "execute_result",
          "data": {
            "text/plain": [
              "7.200665423385055"
            ]
          },
          "metadata": {},
          "execution_count": 196
        }
      ]
    },
    {
      "cell_type": "markdown",
      "metadata": {
        "id": "S9wLJi8FGw-9"
      },
      "source": [
        "* The R2 score and RMSE is when we considering all 9 variable"
      ]
    },
    {
      "cell_type": "markdown",
      "metadata": {
        "id": "Kms_oZPXG83Y"
      },
      "source": [
        "# Now considering first 2 components"
      ]
    },
    {
      "cell_type": "code",
      "metadata": {
        "id": "VBi66MLcGpTD",
        "colab": {
          "base_uri": "https://localhost:8080/"
        },
        "outputId": "796f45c9-bc5d-46c2-b89f-39e9685c9254"
      },
      "source": [
        "len(X_train.columns)"
      ],
      "execution_count": 197,
      "outputs": [
        {
          "output_type": "execute_result",
          "data": {
            "text/plain": [
              "9"
            ]
          },
          "metadata": {},
          "execution_count": 197
        }
      ]
    },
    {
      "cell_type": "code",
      "metadata": {
        "id": "v2AufXACHGtO"
      },
      "source": [
        "from sklearn.decomposition import PCA\n",
        "pca2 = PCA(n_components=2)\n",
        "X_train2 = pca2.fit_transform(X_train[col])\n",
        "X_test2 = pca2.transform(X_test[col])"
      ],
      "execution_count": 198,
      "outputs": []
    },
    {
      "cell_type": "code",
      "metadata": {
        "id": "Kzu3S-uZHvmO",
        "colab": {
          "base_uri": "https://localhost:8080/"
        },
        "outputId": "45aa80e3-57e7-4433-bc84-6d88e2040e57"
      },
      "source": [
        "explained_variance = pca2.explained_variance_ratio_\n",
        "explained_variance"
      ],
      "execution_count": 199,
      "outputs": [
        {
          "output_type": "execute_result",
          "data": {
            "text/plain": [
              "array([0.23095544, 0.20008168])"
            ]
          },
          "metadata": {},
          "execution_count": 199
        }
      ]
    },
    {
      "cell_type": "code",
      "metadata": {
        "id": "2YquXmrSH3VV",
        "colab": {
          "base_uri": "https://localhost:8080/"
        },
        "outputId": "8a7e0cac-cef7-4e5a-c797-a55fb80d0d05"
      },
      "source": [
        "type(explained_variance)"
      ],
      "execution_count": 200,
      "outputs": [
        {
          "output_type": "execute_result",
          "data": {
            "text/plain": [
              "numpy.ndarray"
            ]
          },
          "metadata": {},
          "execution_count": 200
        }
      ]
    },
    {
      "cell_type": "code",
      "metadata": {
        "id": "UDd_z-nzH7XT",
        "colab": {
          "base_uri": "https://localhost:8080/"
        },
        "outputId": "f080c6a2-2b57-4025-b085-495d23105a2e"
      },
      "source": [
        "components = len(explained_variance)\n",
        "components"
      ],
      "execution_count": 201,
      "outputs": [
        {
          "output_type": "execute_result",
          "data": {
            "text/plain": [
              "2"
            ]
          },
          "metadata": {},
          "execution_count": 201
        }
      ]
    },
    {
      "cell_type": "code",
      "metadata": {
        "id": "sfhBwLpvICnk",
        "colab": {
          "base_uri": "https://localhost:8080/"
        },
        "outputId": "4af1913d-60e8-4631-bada-b24497ed973f"
      },
      "source": [
        "np.sum(explained_variance)"
      ],
      "execution_count": 202,
      "outputs": [
        {
          "output_type": "execute_result",
          "data": {
            "text/plain": [
              "0.4310371201414907"
            ]
          },
          "metadata": {},
          "execution_count": 202
        }
      ]
    },
    {
      "cell_type": "code",
      "metadata": {
        "id": "F6UkyznPIGQx",
        "colab": {
          "base_uri": "https://localhost:8080/",
          "height": 297
        },
        "outputId": "41a648ae-80a5-4d14-cd41-7eb00d4288a3"
      },
      "source": [
        "plt.bar(range(components), explained_variance, alpha=0.5, align='center', label='Individual Explained Variance') \n",
        "plt.ylabel(\"Explained variance ratio\")\n",
        "plt.xlabel(\"Principal Components\")\n",
        "plt.legend(loc='best')\n",
        "plt.tight_layout()"
      ],
      "execution_count": 203,
      "outputs": [
        {
          "output_type": "display_data",
          "data": {
            "image/png": "[encoded data removed]",
            "text/plain": [
              "<Figure size 432x288 with 1 Axes>"
            ]
          },
          "metadata": {
            "needs_background": "light"
          }
        }
      ]
    },
    {
      "cell_type": "code",
      "metadata": {
        "id": "RxEqqlb4II2h"
      },
      "source": [
        "from sklearn.ensemble import RandomForestRegressor\n",
        "model = RandomForestRegressor()"
      ],
      "execution_count": 204,
      "outputs": []
    },
    {
      "cell_type": "code",
      "metadata": {
        "id": "X-bWn2jEISxj",
        "colab": {
          "base_uri": "https://localhost:8080/"
        },
        "outputId": "b4ea26f0-9c0a-4b29-8330-da20c29ef6b0"
      },
      "source": [
        "from tqdm import tqdm\n",
        "estimators = np.arange(10,200,30)\n",
        "score = []\n",
        "\n",
        "for n in tqdm(estimators):\n",
        "  model.set_params(n_estimators =n,n_jobs=-1)\n",
        "  model.fit(X_train2,Y_train)\n",
        "  scores.append(model.score(X_test2,Y_test))\n",
        "print(scores)"
      ],
      "execution_count": null,
      "outputs": [
        {
          "output_type": "stream",
          "name": "stderr",
          "text": [
            " 86%|████████▌ | 6/7 [00:56<00:12, 12.57s/it]"
          ]
        }
      ]
    },
    {
      "cell_type": "code",
      "metadata": {
        "id": "aFvNKUbsJXno"
      },
      "source": [
        "np.mean(np.array(scores))"
      ],
      "execution_count": null,
      "outputs": []
    },
    {
      "cell_type": "code",
      "metadata": {
        "id": "i9JN05DZOBA4"
      },
      "source": [
        "regressor = RandomForestRegressor(n_estimators=130, random_state=0)\n",
        "regressor.fit(X_train2, Y_train)"
      ],
      "execution_count": null,
      "outputs": []
    },
    {
      "cell_type": "code",
      "metadata": {
        "id": "sr4iQEyUOFzU"
      },
      "source": [
        "Y_pred = regressor.predict(X_test2)"
      ],
      "execution_count": null,
      "outputs": []
    },
    {
      "cell_type": "code",
      "metadata": {
        "id": "bk1drJ1eRy27"
      },
      "source": [
        "from sklearn.metrics import mean_squared_error, r2_score\n",
        "r2_score(Y_test, Y_pred)"
      ],
      "execution_count": null,
      "outputs": []
    },
    {
      "cell_type": "code",
      "metadata": {
        "id": "tvgjg0rTR4KT"
      },
      "source": [
        "np.sqrt(mean_squared_error(Y_test, Y_pred))"
      ],
      "execution_count": null,
      "outputs": []
    },
    {
      "cell_type": "markdown",
      "metadata": {
        "id": "8VSYb2D_SI1h"
      },
      "source": [
        "# PCA - Considering first 3 components"
      ]
    },
    {
      "cell_type": "code",
      "metadata": {
        "id": "IIuoI5vWR7SC"
      },
      "source": [
        "len(X_train.columns)"
      ],
      "execution_count": null,
      "outputs": []
    },
    {
      "cell_type": "code",
      "metadata": {
        "id": "sXShgMVBSWTs"
      },
      "source": [
        "# https://scikit-learn.org/stable/modules/generated/sklearn.decomposition.PCA.html\n",
        "from sklearn.decomposition import PCA\n",
        "pca3 = PCA(n_components=3)\n",
        "X_train3 = pca3.fit_transform(X_train[col])\n",
        "X_test3 = pca3.transform(X_test[col])"
      ],
      "execution_count": null,
      "outputs": []
    },
    {
      "cell_type": "code",
      "metadata": {
        "id": "vY2x6anJSdGh"
      },
      "source": [
        "explained_variance = pca3.explained_variance_ratio_\n",
        "explained_variance"
      ],
      "execution_count": null,
      "outputs": []
    },
    {
      "cell_type": "code",
      "metadata": {
        "id": "zjaJzbLnSmNn"
      },
      "source": [
        "type(explained_variance)"
      ],
      "execution_count": null,
      "outputs": []
    },
    {
      "cell_type": "code",
      "metadata": {
        "id": "lqRg6SwxSoha"
      },
      "source": [
        "components = len(explained_variance)\n",
        "components"
      ],
      "execution_count": null,
      "outputs": []
    },
    {
      "cell_type": "code",
      "metadata": {
        "id": "p-xZvI0_SsAL"
      },
      "source": [
        "np.sum(explained_variance)"
      ],
      "execution_count": null,
      "outputs": []
    },
    {
      "cell_type": "code",
      "metadata": {
        "id": "MNyke4N3SuPK"
      },
      "source": [
        "plt.bar(range(components), explained_variance, alpha=0.5, align='center', label='Individual Explained Variance') \n",
        "plt.ylabel(\"Explained variance ratio\")\n",
        "plt.xlabel(\"Principal Components\")\n",
        "plt.legend(loc='best')\n",
        "plt.tight_layout()"
      ],
      "execution_count": null,
      "outputs": []
    },
    {
      "cell_type": "code",
      "metadata": {
        "id": "xE2fR-uuSyts"
      },
      "source": [
        "from sklearn.ensemble import RandomForestRegressor\n",
        "model = RandomForestRegressor()"
      ],
      "execution_count": null,
      "outputs": []
    },
    {
      "cell_type": "code",
      "metadata": {
        "id": "321cgEM9S1YC"
      },
      "source": [
        "from tqdm import tqdm\n",
        "estimators = np.arange(10,200,30)\n",
        "scores = []\n",
        "for n in tqdm(estimators):\n",
        "    model.set_params(n_estimators=n, n_jobs=-1)\n",
        "    model.fit(X_train3,Y_train)\n",
        "    scores.append(model.score(X_test3, Y_test))\n",
        "print(scores)"
      ],
      "execution_count": null,
      "outputs": []
    },
    {
      "cell_type": "code",
      "metadata": {
        "id": "Ra3APMlMS3hG"
      },
      "source": [
        "np.mean(np.array(scores))"
      ],
      "execution_count": null,
      "outputs": []
    },
    {
      "cell_type": "code",
      "metadata": {
        "id": "W3-DxPvGTZag"
      },
      "source": [
        "plt.title(\"Effect of n_estimators\")\n",
        "plt.xlabel(\"n_estimator\")\n",
        "plt.ylabel(\"score\")\n",
        "plt.plot(estimators, scores)"
      ],
      "execution_count": null,
      "outputs": []
    },
    {
      "cell_type": "code",
      "metadata": {
        "id": "0LQzqBHvTbPt"
      },
      "source": [
        "regressor = RandomForestRegressor(n_estimators=162, random_state=0)\n",
        "regressor.fit(X_train3, Y_train)"
      ],
      "execution_count": null,
      "outputs": []
    },
    {
      "cell_type": "code",
      "metadata": {
        "id": "_6TIAedGTey3"
      },
      "source": [
        "y_pred = regressor.predict(X_test3)"
      ],
      "execution_count": null,
      "outputs": []
    },
    {
      "cell_type": "code",
      "metadata": {
        "id": "j9jaDIDPTqHg"
      },
      "source": [
        "from sklearn.metrics import mean_squared_error, r2_score\n",
        "r2_score(Y_test, Y_pred)"
      ],
      "execution_count": null,
      "outputs": []
    },
    {
      "cell_type": "code",
      "metadata": {
        "id": "gvf37UCITs4A"
      },
      "source": [
        "np.sqrt(mean_squared_error(Y_test, Y_pred))"
      ],
      "execution_count": null,
      "outputs": []
    },
    {
      "cell_type": "markdown",
      "metadata": {
        "id": "cs5cFNYdT8dX"
      },
      "source": [
        "# PCA - Considering first 4 components"
      ]
    },
    {
      "cell_type": "code",
      "metadata": {
        "id": "0Wfdj8I1T0-C"
      },
      "source": [
        "len(X_train.columns)"
      ],
      "execution_count": null,
      "outputs": []
    },
    {
      "cell_type": "code",
      "metadata": {
        "id": "Cis6T5nkT_dl"
      },
      "source": [
        "# https://scikit-learn.org/stable/modules/generated/sklearn.decomposition.PCA.html\n",
        "from sklearn.decomposition import PCA\n",
        "pca4 = PCA(n_components=4)\n",
        "X_train4 = pca4.fit_transform(X_train[col])\n",
        "X_test4 = pca4.transform(X_test[col])"
      ],
      "execution_count": null,
      "outputs": []
    },
    {
      "cell_type": "code",
      "metadata": {
        "id": "k0Yicn4VUBIq"
      },
      "source": [
        "explained_variance = pca4.explained_variance_ratio_\n",
        "explained_variance"
      ],
      "execution_count": null,
      "outputs": []
    },
    {
      "cell_type": "code",
      "metadata": {
        "id": "wtcZuoxwUC6i"
      },
      "source": [
        "type(explained_variance)"
      ],
      "execution_count": null,
      "outputs": []
    },
    {
      "cell_type": "code",
      "metadata": {
        "id": "JmOs_QmNUE44"
      },
      "source": [
        "components = len(explained_variance)\n",
        "components"
      ],
      "execution_count": null,
      "outputs": []
    },
    {
      "cell_type": "code",
      "metadata": {
        "id": "bcaixpAOUGk7"
      },
      "source": [
        "np.sum(explained_variance)"
      ],
      "execution_count": null,
      "outputs": []
    },
    {
      "cell_type": "code",
      "metadata": {
        "id": "tZ1-68xnUIcc"
      },
      "source": [
        "plt.bar(range(components), explained_variance, alpha=0.5, align='center', label='Individual Explained Variance') \n",
        "plt.ylabel(\"Explained variance ratio\")\n",
        "plt.xlabel(\"Principal Components\")\n",
        "plt.legend(loc='best')\n",
        "plt.tight_layout()"
      ],
      "execution_count": null,
      "outputs": []
    },
    {
      "cell_type": "code",
      "metadata": {
        "id": "5AMQyVMqUKd0"
      },
      "source": [
        "from sklearn.ensemble import RandomForestRegressor\n",
        "model = RandomForestRegressor()"
      ],
      "execution_count": null,
      "outputs": []
    },
    {
      "cell_type": "code",
      "metadata": {
        "id": "lw0zWARKUM7n"
      },
      "source": [
        "from tqdm import tqdm\n",
        "estimators = np.arange(10,200,30)\n",
        "scores = []\n",
        "for n in tqdm(estimators):\n",
        "    model.set_params(n_estimators=n, n_jobs=-1)\n",
        "    model.fit(X_train4,Y_train)\n",
        "    scores.append(model.score(X_test4, Y_test))\n",
        "print(scores)"
      ],
      "execution_count": null,
      "outputs": []
    },
    {
      "cell_type": "code",
      "metadata": {
        "id": "QGfmIyhYUSWZ"
      },
      "source": [
        "np.mean(np.array(scores))"
      ],
      "execution_count": null,
      "outputs": []
    },
    {
      "cell_type": "code",
      "metadata": {
        "id": "StGV9WfeUyXb"
      },
      "source": [
        "plt.title(\"Effect of n_estimators\")\n",
        "plt.xlabel(\"n_estimator\")\n",
        "plt.ylabel(\"score\")\n",
        "plt.plot(estimators, scores)"
      ],
      "execution_count": null,
      "outputs": []
    },
    {
      "cell_type": "code",
      "metadata": {
        "id": "VbLSxIk1U0gK"
      },
      "source": [
        "regressor = RandomForestRegressor(n_estimators=187, random_state=0)\n",
        "regressor.fit(X_train4, Y_train)"
      ],
      "execution_count": null,
      "outputs": []
    },
    {
      "cell_type": "code",
      "metadata": {
        "id": "72WoExHkU3dK"
      },
      "source": [
        "y_pred = regressor.predict(X_test4)"
      ],
      "execution_count": null,
      "outputs": []
    },
    {
      "cell_type": "code",
      "metadata": {
        "id": "HR_2lECvVGCM"
      },
      "source": [
        "from sklearn.metrics import mean_squared_error, r2_score\n",
        "r2_score(Y_test, Y_pred)"
      ],
      "execution_count": null,
      "outputs": []
    },
    {
      "cell_type": "code",
      "metadata": {
        "id": "23ANAWKcVIAO"
      },
      "source": [
        "np.sqrt(mean_squared_error(Y_test, Y_pred))"
      ],
      "execution_count": null,
      "outputs": []
    },
    {
      "cell_type": "markdown",
      "metadata": {
        "id": "ANxY48fSVUOA"
      },
      "source": [
        "RESULTS:\n",
        "\n",
        "ALL PC i.e. 9\n",
        "r2 - 89.92%\n",
        "rmse - 7.20\n",
        "\n",
        "3PC PC\n",
        "r2 - 88.90%\n",
        "rmse - 7.55\n",
        "\n",
        "4PC PC\n",
        "r2 - 91.31%\n",
        "rmse - 6.68\""
      ]
    },
    {
      "cell_type": "markdown",
      "metadata": {
        "id": "n1sNRo0WVeLE"
      },
      "source": [
        "Therefore, we come to a conclusion that instead of choosing all 9 columns, its better to choose just the first four Principal components as they have captures the maximum variance in the IV's."
      ]
    },
    {
      "cell_type": "code",
      "metadata": {
        "id": "RVEMDu2eVSm7"
      },
      "source": [
        ""
      ],
      "execution_count": null,
      "outputs": []
    }
  ]
}