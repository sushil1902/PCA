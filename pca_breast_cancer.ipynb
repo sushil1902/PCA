{
  "nbformat": 4,
  "nbformat_minor": 0,
  "metadata": {
    "colab": {
      "name": "pca_breast_cancer",
      "private_outputs": true,
      "provenance": [],
      "authorship_tag": "ABX9TyN1yPuXRCQTYa73JLmyb+1y",
      "include_colab_link": true
    },
    "kernelspec": {
      "name": "python3",
      "display_name": "Python 3"
    },
    "language_info": {
      "name": "python"
    }
  },
  "cells": [
    {
      "cell_type": "markdown",
      "metadata": {
        "id": "view-in-github",
        "colab_type": "text"
      },
      "source": [
        "<a href=\"https://colab.research.google.com/github/sushil1902/PCA/blob/main/pca_breast_cancer.ipynb\" target=\"_parent\"><img src=\"https://colab.research.google.com/assets/colab-badge.svg\" alt=\"Open In Colab\"/></a>"
      ]
    },
    {
      "cell_type": "markdown",
      "metadata": {
        "id": "KwlXN8zXzmRS"
      },
      "source": [
        "# <center>**Principle component analysis using breast cancer data**</center>"
      ]
    },
    {
      "cell_type": "code",
      "metadata": {
        "id": "I0NJT5Cfz4FY"
      },
      "source": [
        "df_comp = pd.DataFrame(pca.components_, columns = cancer['feature_names'])\n",
        "\n",
        "plt.figure(figsize =(14, 6))\n",
        "\n",
        "# plotting heatmap\n",
        "sns.heatmap(df_comp)\n"
      ],
      "execution_count": null,
      "outputs": []
    },
    {
      "cell_type": "code",
      "metadata": {
        "id": "74amfy4F1Du_"
      },
      "source": [
        "# Loading of data sets (Breast cancer dataset)\n",
        "from sklearn.datasets import load_breast_cancer\n",
        "\n",
        "# Instantiating\n",
        "cancer = load_breast_cancer()\n",
        "\n",
        "type(cancer)"
      ],
      "execution_count": null,
      "outputs": []
    },
    {
      "cell_type": "code",
      "metadata": {
        "id": "PXTgaxSH1zdU"
      },
      "source": [
        "# Creating DataFrame\n",
        "df = pd.DataFrame(cancer['data'],columns = cancer['feature_names'])\n",
        "df.head()"
      ],
      "execution_count": null,
      "outputs": []
    },
    {
      "cell_type": "code",
      "metadata": {
        "id": "5E-4ZqyC2J3B"
      },
      "source": [
        "# Scaling of Data\n",
        "from sklearn.preprocessing import StandardScaler\n",
        "scaler = StandardScaler()\n",
        "scaler.fit(df)\n",
        "scaled_data = scaler.transform(df)\n",
        "scaled_data.shape"
      ],
      "execution_count": null,
      "outputs": []
    },
    {
      "cell_type": "code",
      "metadata": {
        "id": "akIhVT513syP"
      },
      "source": [
        "# Applying PCA\n",
        "from sklearn.decomposition import PCA\n",
        "pca = PCA(n_components=2)\n",
        "pca.fit(scaled_data)\n",
        "x_pca = pca.transform(scaled_data)\n",
        "print(type(x_pca))\n",
        "x_pca.shape"
      ],
      "execution_count": null,
      "outputs": []
    },
    {
      "cell_type": "code",
      "metadata": {
        "id": "a6MSQ6gC8e6C"
      },
      "source": [
        "# Plotting\n",
        "plt.figure(figsize=(12,8))\n",
        "plt.scatter(x_pca[:,0],x_pca[:,1],c = cancer['target'],cmap='plasma')\n",
        "\n",
        "# Labeling x and y axes\n",
        "plt.xlabel('First Principle components')\n",
        "plt.ylabel('Second Principle components')"
      ],
      "execution_count": null,
      "outputs": []
    },
    {
      "cell_type": "code",
      "metadata": {
        "id": "5qJ86t9aDFwF"
      },
      "source": [
        "pca.components_"
      ],
      "execution_count": null,
      "outputs": []
    },
    {
      "cell_type": "code",
      "metadata": {
        "id": "xZXlEyX6DQrN"
      },
      "source": [
        "df_comp = pd.DataFrame(pca.components_, columns = cancer['feature_names'])\n",
        "\n",
        "plt.figure(figsize =(14, 6))\n",
        "\n",
        "# plotting heatmap\n",
        "sns.heatmap(df_comp)\n"
      ],
      "execution_count": null,
      "outputs": []
    },
    {
      "cell_type": "code",
      "metadata": {
        "id": "n-OcdJmKDdWF"
      },
      "source": [
        ""
      ],
      "execution_count": null,
      "outputs": []
    }
  ]
}